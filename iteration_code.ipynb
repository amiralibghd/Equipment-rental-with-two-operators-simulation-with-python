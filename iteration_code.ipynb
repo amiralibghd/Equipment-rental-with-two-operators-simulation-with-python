{
 "cells": [
  {
   "cell_type": "markdown",
   "metadata": {},
   "source": [
    "# Simulation Project"
   ]
  },
  {
   "cell_type": "markdown",
   "metadata": {},
   "source": [
    "## Libraries"
   ]
  },
  {
   "cell_type": "code",
   "execution_count": 100,
   "metadata": {},
   "outputs": [],
   "source": [
    "import numpy as np\n",
    "import matplotlib.pyplot as plt\n",
    "np.random.seed(100)"
   ]
  },
  {
   "cell_type": "markdown",
   "metadata": {},
   "source": [
    "## Arrival function type one(Saw renter)"
   ]
  },
  {
   "cell_type": "code",
   "execution_count": 101,
   "metadata": {},
   "outputs": [],
   "source": [
    "def arrival_type_1():\n",
    "    global FEL, current_time, customers_1, customers_2, start_time, finish_time, LB, LD, LQ, LQ_type, waiting_customer, Betty_customer\n",
    "    customers_1 += 1\n",
    "    between_arrival_time_1 = np.random.uniform(0,30)\n",
    "    if (current_time + between_arrival_time_1) < 600:\n",
    "        FEL.append((current_time + between_arrival_time_1, 'a1'))\n",
    "        FEL.sort()\n",
    "    if LB == 0:\n",
    "        LB = 1\n",
    "        Betty_customer += 1\n",
    "        renting_time_Betty = np.random.uniform(5,15)\n",
    "        FEL.append((current_time + renting_time_Betty, 'rb1'))\n",
    "        FEL.sort()\n",
    "    elif LB == 1:\n",
    "        LQ += 1\n",
    "        waiting_customer += 1\n",
    "        queue_history.append(LQ)\n",
    "        time_history.append(current_time)\n",
    "        LQ_type.append('a1')\n",
    "        start_time.append(current_time)\n",
    "        "
   ]
  },
  {
   "cell_type": "markdown",
   "metadata": {},
   "source": [
    "## Arrival function type two (Saw restorer)"
   ]
  },
  {
   "cell_type": "code",
   "execution_count": 102,
   "metadata": {},
   "outputs": [],
   "source": [
    "def arrival_type_2():\n",
    "    global FEL, current_time,customers_1, customers_2, start_time, finish_time, LB, LD, LQ, LQ_type, waiting_customer, Betty_customer \n",
    "    customers_2 += 1\n",
    "    between_arrival_time_2 = np.random.uniform(0,30)\n",
    "    if (current_time + between_arrival_time_2) < 600:\n",
    "        FEL.append((current_time + between_arrival_time_2, 'a2'))\n",
    "        FEL.sort()\n",
    "    if LB == 0:\n",
    "        LB = 1\n",
    "        Betty_customer += 1\n",
    "        FEL.append((current_time + 2, 'rb2'))\n",
    "        FEL.sort()\n",
    "    elif LB == 1:\n",
    "        LQ += 1\n",
    "        waiting_customer += 1\n",
    "        queue_history.append(LQ)\n",
    "        time_history.append(current_time)\n",
    "        LQ_type.append('a2')"
   ]
  },
  {
   "cell_type": "markdown",
   "metadata": {},
   "source": [
    "## Completion of type 1 service by Betty"
   ]
  },
  {
   "cell_type": "code",
   "execution_count": 103,
   "metadata": {},
   "outputs": [],
   "source": [
    "def comp_rent_Betty():\n",
    "    global FEL, current_time, customers_1,customers_2, start_time, finish_time, LB, LD, LQ, LQ_type, Betty_customer\n",
    "    if current_time<600:\n",
    "        if LQ > 0:\n",
    "            LQ -= 1\n",
    "            Betty_customer += 1\n",
    "            queue_history.append(LQ)\n",
    "            time_history.append(current_time)\n",
    "            CT = LQ_type.pop(0)\n",
    "            if CT == 'a1':\n",
    "                finish_time.append(current_time)\n",
    "                renting_time_Betty = np.random.uniform(5,15)\n",
    "                FEL.append((current_time + renting_time_Betty, 'rb1'))\n",
    "                FEL.sort()\n",
    "            elif CT == 'a2':\n",
    "                FEL.append((current_time + 2, 'rb2'))\n",
    "                FEL.sort()\n",
    "        elif LQ == 0:\n",
    "            LB = 0 \n",
    "    elif (current_time >= 600 and current_time < 660):\n",
    "        if LQ > 0:\n",
    "            LQ -= 1\n",
    "            Betty_customer += 1\n",
    "            queue_history.append(LQ)\n",
    "            time_history.append(current_time)\n",
    "            CT = LQ_type.pop(0)\n",
    "            if CT == 'a1':\n",
    "                finish_time.append(current_time)\n",
    "                renting_time_Betty = np.random.uniform(5,15)\n",
    "                FEL.append((current_time + renting_time_Betty, 'rb1'))\n",
    "                FEL.sort()\n",
    "            elif CT == 'a2':\n",
    "                FEL.append((current_time + 2, 'rb2'))\n",
    "                FEL.sort()\n",
    "        elif LQ == 0:\n",
    "            LB = -1\n",
    "            maintenance_time_Betty = np.random.uniform(2,10)\n",
    "            clean_time_Betty = np.random.uniform(4,16)\n",
    "            FEL.append((current_time+maintenance_time_Betty+clean_time_Betty,'sb'))\n",
    "            FEL.sort()"
   ]
  },
  {
   "cell_type": "markdown",
   "metadata": {},
   "source": [
    "## Completion of type 2 service by Betty"
   ]
  },
  {
   "cell_type": "code",
   "execution_count": 104,
   "metadata": {},
   "outputs": [],
   "source": [
    "def comp_restore_Betty():\n",
    "    global FEL, current_time, customers_1,customers_2, start_time, finish_time, LB, LD, LQ, LQ_type, Betty_customer\n",
    "    if current_time<600:\n",
    "        if LQ > 0:\n",
    "            LQ -= 1\n",
    "            Betty_customer += 1\n",
    "            queue_history.append(LQ)\n",
    "            time_history.append(current_time)\n",
    "            CT = LQ_type.pop(0)\n",
    "            if CT == 'a1':\n",
    "                finish_time.append(current_time)\n",
    "                renting_time_Betty = np.random.uniform(5,15)\n",
    "                FEL.append((current_time + renting_time_Betty, 'rb1'))\n",
    "                FEL.sort()\n",
    "            elif CT == 'a2':\n",
    "                FEL.append((current_time + 2, 'rb2'))\n",
    "                FEL.sort()\n",
    "        elif LQ == 0:\n",
    "            LB = 0 \n",
    "    elif (current_time >= 600 and current_time < 660):\n",
    "        if LQ > 0:\n",
    "            LQ -= 1\n",
    "            Betty_customer += 1\n",
    "            queue_history.append(LQ)\n",
    "            time_history.append(current_time)\n",
    "            CT = LQ_type.pop(0)\n",
    "            if CT == 'a1':\n",
    "                finish_time.append(current_time)\n",
    "                renting_time_Betty = np.random.uniform(5,15)\n",
    "                FEL.append((current_time + renting_time_Betty, 'rb1'))\n",
    "                FEL.sort()\n",
    "            elif CT == 'a2':\n",
    "                FEL.append((current_time + 2, 'rb2'))\n",
    "                FEL.sort()\n",
    "        elif LQ == 0:\n",
    "            LB = -1\n",
    "            maintenance_time_Betty = np.random.uniform(2,10)\n",
    "            clean_time_Betty = np.random.uniform(4,16)\n",
    "            FEL.append((current_time+maintenance_time_Betty+clean_time_Betty,'sb'))\n",
    "            FEL.sort()"
   ]
  },
  {
   "cell_type": "markdown",
   "metadata": {},
   "source": [
    "## Completion of cleaning saw by Betty"
   ]
  },
  {
   "cell_type": "code",
   "execution_count": 105,
   "metadata": {},
   "outputs": [],
   "source": [
    "def cleaning_Betty():\n",
    "    global FEL, current_time, customers, start_time, finish_time, LB, LD, LQ, LQ_type\n",
    "    maintenance_time_Betty = np.random.uniform(2,10)\n",
    "    clean_time_Betty = np.random.uniform(4,16)\n",
    "    FEL.append((current_time+maintenance_time_Betty+clean_time_Betty,'sb'))\n",
    "    FEL.sort()"
   ]
  },
  {
   "cell_type": "markdown",
   "metadata": {},
   "source": [
    "## Completion of type 1 service by David"
   ]
  },
  {
   "cell_type": "code",
   "execution_count": 106,
   "metadata": {},
   "outputs": [],
   "source": [
    "def comp_rent_David():\n",
    "    global FEL, current_time, customers, start_time, finish_time, LB, LD, LQ, LQ_type, David_customer\n",
    "    if LQ > 0:\n",
    "        LD = 1\n",
    "        LQ -= 1\n",
    "        David_customer += 1\n",
    "        queue_history.append(LQ)\n",
    "        time_history.append(current_time)\n",
    "        CT = LQ_type.pop(0)\n",
    "        if CT == 'a1':\n",
    "            finish_time.append(current_time)\n",
    "            renting_time_David = np.random.uniform(10,18)\n",
    "            FEL.append((current_time + renting_time_David, 'rd1'))\n",
    "            FEL.sort()\n",
    "        elif CT == 'a2':\n",
    "            FEL.append((current_time + 2, 'rd2'))\n",
    "            FEL.sort()\n",
    "    elif LQ == 0:\n",
    "        LD = -1\n",
    "        maintenance_time_David = np.random.uniform(2,10)\n",
    "        clean_time_David = np.random.uniform(4,16)\n",
    "        FEL.append((current_time+maintenance_time_David+clean_time_David,'sd'))\n",
    "        FEL.sort()\n",
    "        "
   ]
  },
  {
   "cell_type": "markdown",
   "metadata": {},
   "source": [
    "## Completion of type 2 service by David"
   ]
  },
  {
   "cell_type": "code",
   "execution_count": 107,
   "metadata": {},
   "outputs": [],
   "source": [
    "def comp_restore_David():\n",
    "    global FEL, current_time, customers, start_time, finish_time, LB, LD, LQ, LQ_type, David_customer\n",
    "    if LQ > 0:\n",
    "        LD = 1\n",
    "        LQ -= 1\n",
    "        David_customer += 1\n",
    "        queue_history.append(LQ)\n",
    "        time_history.append(current_time)\n",
    "        CT = LQ_type.pop(0)\n",
    "        if CT == 'a1':\n",
    "            finish_time.append(current_time)\n",
    "            renting_time_David = np.random.uniform(10,18)\n",
    "            FEL.append((current_time + renting_time_David, 'rd1'))\n",
    "            FEL.sort()\n",
    "        elif CT == 'a2':\n",
    "            FEL.append((current_time + 2, 'rd2'))\n",
    "            FEL.sort()\n",
    "    elif LQ == 0:\n",
    "        LD = -1\n",
    "        maintenance_time_David = np.random.uniform(2,10)\n",
    "        clean_time_David = np.random.uniform(4,16)\n",
    "        FEL.append((current_time+maintenance_time_David+clean_time_David,'sd'))\n",
    "        FEL.sort()\n",
    "        "
   ]
  },
  {
   "cell_type": "markdown",
   "metadata": {},
   "source": [
    "## Completion of cleaning saw by David"
   ]
  },
  {
   "cell_type": "code",
   "execution_count": 108,
   "metadata": {},
   "outputs": [],
   "source": [
    "def cleaning_David():\n",
    "    global FEL, current_time, customers, start_time, finish_time, LB, LD, LQ, LQ_type, David_customer\n",
    "    if LQ > 0:\n",
    "        LD = 1\n",
    "        LQ -= 1\n",
    "        David_customer += 1\n",
    "        queue_history.append(LQ)\n",
    "        time_history.append(current_time)\n",
    "        CT = LQ_type.pop(0)\n",
    "        if CT == 'a1':\n",
    "            finish_time.append(current_time)\n",
    "            renting_time_David = np.random.uniform(10,18)\n",
    "            FEL.append((current_time + renting_time_David, 'rd1'))\n",
    "            FEL.sort()\n",
    "        elif CT == 'a2':\n",
    "            FEL.append((current_time + 2, 'rd2'))\n",
    "            FEL.sort()\n",
    "    elif LQ == 0:\n",
    "        LD = -1\n",
    "        maintenance_time_David = np.random.uniform(2,10)\n",
    "        clean_time_David = np.random.uniform(4,16)\n",
    "        FEL.append((current_time+maintenance_time_David+clean_time_David,'sd'))\n",
    "        FEL.sort()\n",
    "        "
   ]
  },
  {
   "cell_type": "markdown",
   "metadata": {},
   "source": [
    "## Heart of Simulation"
   ]
  },
  {
   "cell_type": "code",
   "execution_count": 109,
   "metadata": {},
   "outputs": [],
   "source": [
    "customers_1_list = []\n",
    "customers_2_list = []\n",
    "avg_delay_time_list = []\n",
    "average_LQ_list = []\n",
    "p_waiting_list = []\n",
    "Betty_customer_list = []\n",
    "David_customer_list = []\n",
    "iter = 50\n",
    "for i in range(iter):\n",
    "    simulation_time = 660\n",
    "    FEL = []\n",
    "    current_time = 0\n",
    "    customers_1 = 0\n",
    "    customers_2 = 0\n",
    "    start_time = []\n",
    "    finish_time = []\n",
    "    delay_time = []\n",
    "    queue_history = []\n",
    "    time_history = []\n",
    "    David_customer = 0\n",
    "    Betty_customer = 0\n",
    "    waiting_customer = 0\n",
    "    LB = 0\n",
    "    LD = -1\n",
    "    LQ = 0\n",
    "    LQ_type = []\n",
    "    random_num = np.random.random()\n",
    "    if random_num < 0.5:\n",
    "        FEL.append((0,'a1'))\n",
    "        FEL.append((1,'a2'))\n",
    "    else:\n",
    "        FEL.append((0,'a2'))\n",
    "        FEL.append((1,'a1'))\n",
    "    queue_history.append(0)\n",
    "    time_history.append(0)\n",
    "    FEL.append((0,'sd'))\n",
    "    while (current_time < simulation_time):\n",
    "        current_time,event_type = FEL.pop(0)\n",
    "        if event_type=='a1':    \n",
    "            arrival_type_1()\n",
    "        elif event_type=='a2':\n",
    "            arrival_type_2()\n",
    "        elif event_type=='rb1':\n",
    "            comp_rent_Betty()\n",
    "        elif event_type=='rb2':\n",
    "            comp_restore_Betty()\n",
    "        elif event_type=='sb':\n",
    "            cleaning_Betty()\n",
    "        elif event_type=='rd1':\n",
    "            comp_rent_David() \n",
    "        elif event_type=='rd2':\n",
    "            comp_rent_David()\n",
    "        elif event_type=='sd':\n",
    "            cleaning_David()\n",
    "    length_time = len(finish_time)\n",
    "    for i in range(length_time):\n",
    "        delay = finish_time[i] - start_time[i]\n",
    "        delay_time.append(delay)\n",
    "    sum_delay_time = np.sum(delay_time)\n",
    "    avg_delay_time = sum_delay_time / customers_1\n",
    "    avg_delay_time_list.append(avg_delay_time)\n",
    "    \n",
    "    length_LQ = len(time_history)\n",
    "    sum_LQ = 0\n",
    "    for i in range (length_LQ-1):\n",
    "        sum_LQ += (time_history[i+1]-time_history[i])*queue_history[i]\n",
    "    average_LQ = sum_LQ / 600\n",
    "    average_LQ_list.append(average_LQ)\n",
    "\n",
    "    customers_1_list.append(customers_1)\n",
    "    customers_2_list.append(customers_2)\n",
    "    Betty_customer_list.append(Betty_customer)\n",
    "    David_customer_list.append(David_customer)\n",
    "\n",
    "    p_waiting = waiting_customer / (customers_1 + customers_2)\n",
    "    p_waiting_list.append(p_waiting)"
   ]
  },
  {
   "cell_type": "code",
   "execution_count": 110,
   "metadata": {},
   "outputs": [
    {
     "name": "stdout",
     "output_type": "stream",
     "text": [
      "after 150 iteration:\n",
      "average of customer 1: 20.85333333333333\n",
      "average of customer 2: 20.493333333333332\n",
      "average of Betty's customer: 37.473333333333336\n",
      "average of David's customer: 3.8733333333333335\n",
      "average of queue over 150 iteration: 0.09031556969307024\n",
      "average of delay time over 150 iteration: 0.9238422938099624\n",
      "average of probability of waiting customer : 0.31228958124425893\n",
      "average of probability of being serviced on time : 0.687710418755741\n"
     ]
    }
   ],
   "source": [
    "print(\"after\",iter,\"iteration:\")\n",
    "print(\"average of customer 1:\",np.mean(customers_1_list))\n",
    "print(\"average of customer 2:\",np.mean(customers_2_list))\n",
    "print(\"average of Betty's customer:\",np.mean(Betty_customer_list))\n",
    "print(\"average of David's customer:\",np.mean(David_customer_list))\n",
    "print(\"average of queue over\",iter,\"iteration:\",np.mean(average_LQ_list))\n",
    "print(\"average of delay time over\",iter,\"iteration:\",np.mean(avg_delay_time_list))\n",
    "print(\"average of probability of waiting customer :\",np.mean(p_waiting_list))\n",
    "print(\"average of probability of being serviced on time :\",1-np.mean(p_waiting_list))"
   ]
  }
 ],
 "metadata": {
  "kernelspec": {
   "display_name": "Python 3.11.3 64-bit (microsoft store)",
   "language": "python",
   "name": "python3"
  },
  "language_info": {
   "codemirror_mode": {
    "name": "ipython",
    "version": 3
   },
   "file_extension": ".py",
   "mimetype": "text/x-python",
   "name": "python",
   "nbconvert_exporter": "python",
   "pygments_lexer": "ipython3",
   "version": "3.11.4"
  },
  "orig_nbformat": 4,
  "vscode": {
   "interpreter": {
    "hash": "a980e4a78660a0395618d7d1140eacd8511968ab9154713cbecd97b8bba80381"
   }
  }
 },
 "nbformat": 4,
 "nbformat_minor": 2
}
