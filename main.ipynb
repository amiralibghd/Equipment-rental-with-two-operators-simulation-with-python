{
 "cells": [
  {
   "cell_type": "markdown",
   "metadata": {},
   "source": [
    "# Simulation Project"
   ]
  },
  {
   "cell_type": "markdown",
   "metadata": {},
   "source": [
    "## Libraries"
   ]
  },
  {
   "cell_type": "code",
   "execution_count": 1,
   "metadata": {},
   "outputs": [],
   "source": [
    "import numpy as np\n",
    "np.random.seed(100)"
   ]
  },
  {
   "cell_type": "markdown",
   "metadata": {},
   "source": [
    "## Variables"
   ]
  },
  {
   "cell_type": "code",
   "execution_count": 2,
   "metadata": {},
   "outputs": [],
   "source": [
    "simulation_time = int(input(\"enter simulation time:\"))\n",
    "FEL = []\n",
    "\n",
    "current_time = 0\n",
    "customers_1 = 0\n",
    "\n",
    "start_time = []\n",
    "finish_time = []\n",
    "delay_time = []\n",
    "\n",
    "\n",
    "LB = 0\n",
    "LD = -1\n",
    "\n",
    "LQ = 0\n",
    "LQ_type = []"
   ]
  },
  {
   "cell_type": "markdown",
   "metadata": {},
   "source": [
    "## Starting condition"
   ]
  },
  {
   "cell_type": "code",
   "execution_count": 3,
   "metadata": {},
   "outputs": [],
   "source": [
    "# arrival of first customer\n",
    "random_num = np.random.random()\n",
    "if random_num < 0.5:\n",
    "    FEL.append((0,'a1'))\n",
    "    FEL.append((1,'a2'))\n",
    "else:\n",
    "    FEL.append((0,'a2'))\n",
    "    FEL.append((1,'a1'))\n",
    "# starting cleaning saw\n",
    "FEL.append((0,'sd'))"
   ]
  },
  {
   "cell_type": "markdown",
   "metadata": {},
   "source": [
    "## Arrival function type one(Saw renter)"
   ]
  },
  {
   "cell_type": "code",
   "execution_count": 4,
   "metadata": {},
   "outputs": [],
   "source": [
    "def arrival_type_1():\n",
    "    global FEL, current_time, customers_1, start_time, finish_time, LB, LD, LQ, LQ_type\n",
    "    customers_1 += 1\n",
    "    between_arrival_time_1 = np.random.uniform(0,60)\n",
    "    if (current_time + between_arrival_time_1) < 600:\n",
    "        FEL.append((current_time + between_arrival_time_1, 'a1'))\n",
    "        FEL.sort()\n",
    "    if LB == 0:\n",
    "        LB = 1\n",
    "        renting_time_Betty = np.random.uniform(5,15)\n",
    "        FEL.append((current_time + renting_time_Betty, 'rb1'))\n",
    "        FEL.sort()\n",
    "    elif LB == 1:\n",
    "        LQ += 1\n",
    "        LQ_type.append('a1')\n",
    "        start_time.append(current_time)\n",
    "        "
   ]
  },
  {
   "cell_type": "markdown",
   "metadata": {},
   "source": [
    "## Arrival function type two (Saw restorer)"
   ]
  },
  {
   "cell_type": "code",
   "execution_count": 5,
   "metadata": {},
   "outputs": [],
   "source": [
    "def arrival_type_2():\n",
    "    global FEL, current_time, customers_1, start_time, finish_time, LB, LD, LQ, LQ_type\n",
    "    between_arrival_time_2 = np.random.uniform(0,60)\n",
    "    if (current_time + between_arrival_time_2) < 600:\n",
    "        FEL.append((current_time + between_arrival_time_2, 'a2'))\n",
    "        FEL.sort()\n",
    "    if LB == 0:\n",
    "        LB = 1\n",
    "        FEL.append((current_time + 2, 'rb2'))\n",
    "        FEL.sort()\n",
    "    elif LB == 1:\n",
    "        LQ += 1\n",
    "        LQ_type.append('a2')"
   ]
  },
  {
   "cell_type": "markdown",
   "metadata": {},
   "source": [
    "## Completion of type 1 service by Betty"
   ]
  },
  {
   "cell_type": "code",
   "execution_count": 6,
   "metadata": {},
   "outputs": [],
   "source": [
    "def comp_rent_Betty():\n",
    "    global FEL, current_time, customers_1, start_time, finish_time, LB, LD, LQ, LQ_type\n",
    "    if current_time<600:\n",
    "        if LQ > 0:\n",
    "            LQ -= 1\n",
    "            CT = LQ_type.pop(0)\n",
    "            if CT == 'a1':\n",
    "                finish_time.append(current_time)\n",
    "                renting_time_Betty = np.random.uniform(5,15)\n",
    "                FEL.append((current_time + renting_time_Betty, 'rb1'))\n",
    "                FEL.sort()\n",
    "            elif CT == 'a2':\n",
    "                FEL.append((current_time + 2, 'rb2'))\n",
    "                FEL.sort()\n",
    "        elif LQ == 0:\n",
    "            LB = 0 \n",
    "    elif (current_time >= 600 and current_time < 660):\n",
    "        if LQ > 0:\n",
    "            LQ -= 1\n",
    "            CT = LQ_type.pop(0)\n",
    "            if CT == 'a1':\n",
    "                finish_time.append(current_time)\n",
    "                renting_time_Betty = np.random.uniform(5,15)\n",
    "                FEL.append((current_time + renting_time_Betty, 'rb1'))\n",
    "                FEL.sort()\n",
    "            elif CT == 'a2':\n",
    "                FEL.append((current_time + 2, 'rb2'))\n",
    "                FEL.sort()\n",
    "        elif LQ == 0:\n",
    "            LB = -1\n",
    "            maintenance_time_Betty = np.random.uniform(2,10)\n",
    "            clean_time_Betty = np.random.uniform(4,16)\n",
    "            FEL.append((current_time+maintenance_time_Betty+clean_time_Betty,'sb'))\n",
    "            FEL.sort()"
   ]
  },
  {
   "cell_type": "markdown",
   "metadata": {},
   "source": [
    "## Completion of type 2 service by Betty"
   ]
  },
  {
   "cell_type": "code",
   "execution_count": 7,
   "metadata": {},
   "outputs": [],
   "source": [
    "def comp_restore_Betty():\n",
    "    global FEL, current_time, customers_1, start_time, finish_time, LB, LD, LQ, LQ_type\n",
    "    if current_time<600:\n",
    "        if LQ > 0:\n",
    "            LQ -= 1\n",
    "            CT = LQ_type.pop(0)\n",
    "            if CT == 'a1':\n",
    "                finish_time.append(current_time)\n",
    "                renting_time_Betty = np.random.uniform(5,15)\n",
    "                FEL.append((current_time + renting_time_Betty, 'rb1'))\n",
    "                FEL.sort()\n",
    "            elif CT == 'a2':\n",
    "                FEL.append((current_time + 2, 'rb2'))\n",
    "                FEL.sort()\n",
    "        elif LQ == 0:\n",
    "            LB = 0 \n",
    "    elif (current_time >= 600 and current_time < 660):\n",
    "        if LQ > 0:\n",
    "            LQ -= 1\n",
    "            CT = LQ_type.pop(0)\n",
    "            if CT == 'a1':\n",
    "                finish_time.append(current_time)\n",
    "                renting_time_Betty = np.random.uniform(5,15)\n",
    "                FEL.append((current_time + renting_time_Betty, 'rb1'))\n",
    "                FEL.sort()\n",
    "            elif CT == 'a2':\n",
    "                FEL.append((current_time + 2, 'rb2'))\n",
    "                FEL.sort()\n",
    "        elif LQ == 0:\n",
    "            LB = -1\n",
    "            maintenance_time_Betty = np.random.uniform(2,10)\n",
    "            clean_time_Betty = np.random.uniform(4,16)\n",
    "            FEL.append((current_time+maintenance_time_Betty+clean_time_Betty,'sb'))\n",
    "            FEL.sort()"
   ]
  },
  {
   "cell_type": "markdown",
   "metadata": {},
   "source": [
    "## Completion of cleaning saw by Betty"
   ]
  },
  {
   "cell_type": "code",
   "execution_count": 8,
   "metadata": {},
   "outputs": [],
   "source": [
    "def cleaning_Betty():\n",
    "    global FEL, current_time, customers_1, start_time, finish_time, LB, LD, LQ, LQ_type\n",
    "    maintenance_time_Betty = np.random.uniform(2,10)\n",
    "    clean_time_Betty = np.random.uniform(4,16)\n",
    "    FEL.append((current_time+maintenance_time_Betty+clean_time_Betty,'sb'))\n",
    "    FEL.sort()"
   ]
  },
  {
   "cell_type": "markdown",
   "metadata": {},
   "source": [
    "## Completion of type 1 service by David"
   ]
  },
  {
   "cell_type": "code",
   "execution_count": 9,
   "metadata": {},
   "outputs": [],
   "source": [
    "def comp_rent_David():\n",
    "    global FEL, current_time, customers_1, start_time, finish_time, LB, LD, LQ, LQ_type\n",
    "    if LQ > 0:\n",
    "        LD = 1\n",
    "        LQ -= 1\n",
    "        CT = LQ_type.pop(0)\n",
    "        if CT == 'a1':\n",
    "            finish_time.append(current_time)\n",
    "            renting_time_David = np.random.uniform(10,18)\n",
    "            FEL.append((current_time + renting_time_David, 'rd1'))\n",
    "            FEL.sort()\n",
    "        elif CT == 'a2':\n",
    "            FEL.append((current_time + 2, 'rd2'))\n",
    "            FEL.sort()\n",
    "    elif LQ == 0:\n",
    "        LD = -1\n",
    "        maintenance_time_David = np.random.uniform(2,10)\n",
    "        clean_time_David = np.random.uniform(4,16)\n",
    "        FEL.append((current_time+maintenance_time_David+clean_time_David,'sd'))\n",
    "        FEL.sort()\n",
    "        "
   ]
  },
  {
   "cell_type": "markdown",
   "metadata": {},
   "source": [
    "## Completion of type 2 service by David"
   ]
  },
  {
   "cell_type": "code",
   "execution_count": 10,
   "metadata": {},
   "outputs": [],
   "source": [
    "def comp_restore_David():\n",
    "    global FEL, current_time, customers_1, start_time, finish_time, LB, LD, LQ, LQ_type\n",
    "    if LQ > 0:\n",
    "        LD = 1\n",
    "        LQ -= 1\n",
    "        CT = LQ_type.pop(0)\n",
    "        if CT == 'a1':\n",
    "            finish_time.append(current_time)\n",
    "            renting_time_David = np.random.uniform(10,18)\n",
    "            FEL.append((current_time + renting_time_David, 'rd1'))\n",
    "            FEL.sort()\n",
    "        elif CT == 'a2':\n",
    "            FEL.append((current_time + 2, 'rd2'))\n",
    "            FEL.sort()\n",
    "    elif LQ == 0:\n",
    "        LD = -1\n",
    "        maintenance_time_David = np.random.uniform(2,10)\n",
    "        clean_time_David = np.random.uniform(4,16)\n",
    "        FEL.append((current_time+maintenance_time_David+clean_time_David,'sd'))\n",
    "        FEL.sort()\n",
    "        "
   ]
  },
  {
   "cell_type": "markdown",
   "metadata": {},
   "source": [
    "## Completion of cleaning saw by David"
   ]
  },
  {
   "cell_type": "code",
   "execution_count": 11,
   "metadata": {},
   "outputs": [],
   "source": [
    "def cleaning_David():\n",
    "    global FEL, current_time, customers_1, start_time, finish_time, LB, LD, LQ, LQ_type\n",
    "    if LQ > 0:\n",
    "        LD = 1\n",
    "        LQ -= 1\n",
    "        CT = LQ_type.pop(0)\n",
    "        if CT == 'a1':\n",
    "            finish_time.append(current_time)\n",
    "            renting_time_David = np.random.uniform(10,18)\n",
    "            FEL.append((current_time + renting_time_David, 'rd1'))\n",
    "            FEL.sort()\n",
    "        elif CT == 'a2':\n",
    "            FEL.append((current_time + 2, 'rd2'))\n",
    "            FEL.sort()\n",
    "    elif LQ == 0:\n",
    "        LD = -1\n",
    "        maintenance_time_David = np.random.uniform(2,10)\n",
    "        clean_time_David = np.random.uniform(4,16)\n",
    "        FEL.append((current_time+maintenance_time_David+clean_time_David,'sd'))\n",
    "        FEL.sort()\n",
    "        "
   ]
  },
  {
   "cell_type": "markdown",
   "metadata": {},
   "source": [
    "## Heart of Simulation"
   ]
  },
  {
   "cell_type": "code",
   "execution_count": 12,
   "metadata": {},
   "outputs": [],
   "source": [
    "while (current_time < simulation_time):\n",
    "    current_time,event_type = FEL.pop(0)\n",
    "    if event_type=='a1':    \n",
    "        arrival_type_1()\n",
    "    elif event_type=='a2':\n",
    "        arrival_type_2()\n",
    "    elif event_type=='rb1':\n",
    "        comp_rent_Betty()\n",
    "    elif event_type=='rb2':\n",
    "        comp_restore_Betty()\n",
    "    elif event_type=='sb':\n",
    "        cleaning_Betty()\n",
    "    elif event_type=='rd1':\n",
    "        comp_rent_David() \n",
    "    elif event_type=='rd2':\n",
    "        comp_rent_David()\n",
    "    elif event_type=='sd':\n",
    "        cleaning_David()"
   ]
  },
  {
   "cell_type": "code",
   "execution_count": 13,
   "metadata": {},
   "outputs": [
    {
     "name": "stdout",
     "output_type": "stream",
     "text": [
      "[1, 12.424359475809432, 10.956175695386701, 0.20369323835903685, 7.249297556145422, 2.3096619084882377]\n",
      "Count of saw rental customers is: 21\n"
     ]
    }
   ],
   "source": [
    "length_time = len(finish_time)\n",
    "for i in range(length_time):\n",
    "    delay = finish_time[i] - start_time[i]\n",
    "    delay_time.append(delay)\n",
    "print(delay_time)\n",
    "print(\"Count of saw rental customers is:\",customers_1)"
   ]
  },
  {
   "cell_type": "markdown",
   "metadata": {},
   "source": [
    "## The average delay period of saw rental customers_1"
   ]
  },
  {
   "cell_type": "code",
   "execution_count": 14,
   "metadata": {},
   "outputs": [
    {
     "name": "stdout",
     "output_type": "stream",
     "text": [
      "The average delay period of saw rental customers is: 1.6258660892470869\n"
     ]
    }
   ],
   "source": [
    "sum_delay_time = np.sum(delay_time)\n",
    "avg_delay_time = sum_delay_time / customers_1\n",
    "print(\"The average delay period of saw rental customers is:\",avg_delay_time)"
   ]
  }
 ],
 "metadata": {
  "kernelspec": {
   "display_name": "Python 3.11.3 64-bit (microsoft store)",
   "language": "python",
   "name": "python3"
  },
  "language_info": {
   "codemirror_mode": {
    "name": "ipython",
    "version": 3
   },
   "file_extension": ".py",
   "mimetype": "text/x-python",
   "name": "python",
   "nbconvert_exporter": "python",
   "pygments_lexer": "ipython3",
   "version": "3.11.4"
  },
  "orig_nbformat": 4,
  "vscode": {
   "interpreter": {
    "hash": "a980e4a78660a0395618d7d1140eacd8511968ab9154713cbecd97b8bba80381"
   }
  }
 },
 "nbformat": 4,
 "nbformat_minor": 2
}
