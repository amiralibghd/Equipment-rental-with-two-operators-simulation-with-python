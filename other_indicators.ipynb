{
 "cells": [
  {
   "cell_type": "markdown",
   "metadata": {},
   "source": [
    "# Simulation Project"
   ]
  },
  {
   "cell_type": "markdown",
   "metadata": {},
   "source": [
    "## Libraries"
   ]
  },
  {
   "cell_type": "code",
   "execution_count": 64,
   "metadata": {},
   "outputs": [],
   "source": [
    "import numpy as np\n",
    "import matplotlib.pyplot as plt\n",
    "np.random.seed(100)"
   ]
  },
  {
   "cell_type": "markdown",
   "metadata": {},
   "source": [
    "## Variables"
   ]
  },
  {
   "cell_type": "code",
   "execution_count": 65,
   "metadata": {},
   "outputs": [],
   "source": [
    "simulation_time = 660\n",
    "FEL = []\n",
    "\n",
    "current_time = 0\n",
    "customers_1 = 0\n",
    "customers_2 = 0\n",
    "\n",
    "start_time = []\n",
    "finish_time = []\n",
    "delay_time = []\n",
    "\n",
    "queue_history = []\n",
    "time_history = []\n",
    "\n",
    "David_customer = 0\n",
    "Betty_customer = 0\n",
    "\n",
    "waiting_customer = 0\n",
    "\n",
    "LB = 0\n",
    "LD = -1\n",
    "\n",
    "LQ = 0\n",
    "LQ_type = []"
   ]
  },
  {
   "cell_type": "markdown",
   "metadata": {},
   "source": [
    "## Starting condition"
   ]
  },
  {
   "cell_type": "code",
   "execution_count": 66,
   "metadata": {},
   "outputs": [],
   "source": [
    "# arrival of first customer\n",
    "random_num = np.random.random()\n",
    "if random_num < 0.5:\n",
    "    FEL.append((0,'a1'))\n",
    "    FEL.append((1,'a2'))\n",
    "else:\n",
    "    FEL.append((0,'a2'))\n",
    "    FEL.append((1,'a1'))\n",
    "\n",
    "queue_history.append(0)\n",
    "time_history.append(0)\n",
    "\n",
    "# starting cleaning saw\n",
    "FEL.append((0,'sd'))"
   ]
  },
  {
   "cell_type": "markdown",
   "metadata": {},
   "source": [
    "## Arrival function type one(Saw renter)"
   ]
  },
  {
   "cell_type": "code",
   "execution_count": 67,
   "metadata": {},
   "outputs": [],
   "source": [
    "def arrival_type_1():\n",
    "    global FEL, current_time, customers_1, customers_2, start_time, finish_time, LB, LD, LQ, LQ_type, waiting_customer, Betty_customer\n",
    "    customers_1 += 1\n",
    "    between_arrival_time_1 = np.random.uniform(0,60)\n",
    "    if (current_time + between_arrival_time_1) < 600:\n",
    "        FEL.append((current_time + between_arrival_time_1, 'a1'))\n",
    "        FEL.sort()\n",
    "    if LB == 0:\n",
    "        LB = 1\n",
    "        Betty_customer += 1\n",
    "        renting_time_Betty = np.random.uniform(5,15)\n",
    "        FEL.append((current_time + renting_time_Betty, 'rb1'))\n",
    "        FEL.sort()\n",
    "    elif LB == 1:\n",
    "        LQ += 1\n",
    "        waiting_customer += 1\n",
    "        queue_history.append(LQ)\n",
    "        time_history.append(current_time)\n",
    "        LQ_type.append('a1')\n",
    "        start_time.append(current_time)\n",
    "        "
   ]
  },
  {
   "cell_type": "markdown",
   "metadata": {},
   "source": [
    "## Arrival function type two (Saw restorer)"
   ]
  },
  {
   "cell_type": "code",
   "execution_count": 68,
   "metadata": {},
   "outputs": [],
   "source": [
    "def arrival_type_2():\n",
    "    global FEL, current_time,customers_1, customers_2, start_time, finish_time, LB, LD, LQ, LQ_type, waiting_customer, Betty_customer \n",
    "    customers_2 += 1\n",
    "    between_arrival_time_2 = np.random.uniform(0,60)\n",
    "    if (current_time + between_arrival_time_2) < 600:\n",
    "        FEL.append((current_time + between_arrival_time_2, 'a2'))\n",
    "        FEL.sort()\n",
    "    if LB == 0:\n",
    "        LB = 1\n",
    "        Betty_customer += 1\n",
    "        FEL.append((current_time + 2, 'rb2'))\n",
    "        FEL.sort()\n",
    "    elif LB == 1:\n",
    "        LQ += 1\n",
    "        waiting_customer += 1\n",
    "        queue_history.append(LQ)\n",
    "        time_history.append(current_time)\n",
    "        LQ_type.append('a2')"
   ]
  },
  {
   "cell_type": "markdown",
   "metadata": {},
   "source": [
    "## Completion of type 1 service by Betty"
   ]
  },
  {
   "cell_type": "code",
   "execution_count": 69,
   "metadata": {},
   "outputs": [],
   "source": [
    "def comp_rent_Betty():\n",
    "    global FEL, current_time, customers_1,customers_2, start_time, finish_time, LB, LD, LQ, LQ_type, Betty_customer\n",
    "    if current_time<600:\n",
    "        if LQ > 0:\n",
    "            LQ -= 1\n",
    "            Betty_customer += 1\n",
    "            queue_history.append(LQ)\n",
    "            time_history.append(current_time)\n",
    "            CT = LQ_type.pop(0)\n",
    "            if CT == 'a1':\n",
    "                finish_time.append(current_time)\n",
    "                renting_time_Betty = np.random.uniform(5,15)\n",
    "                FEL.append((current_time + renting_time_Betty, 'rb1'))\n",
    "                FEL.sort()\n",
    "            elif CT == 'a2':\n",
    "                FEL.append((current_time + 2, 'rb2'))\n",
    "                FEL.sort()\n",
    "        elif LQ == 0:\n",
    "            LB = 0 \n",
    "    elif (current_time >= 600 and current_time < 660):\n",
    "        if LQ > 0:\n",
    "            LQ -= 1\n",
    "            Betty_customer += 1\n",
    "            queue_history.append(LQ)\n",
    "            time_history.append(current_time)\n",
    "            CT = LQ_type.pop(0)\n",
    "            if CT == 'a1':\n",
    "                finish_time.append(current_time)\n",
    "                renting_time_Betty = np.random.uniform(5,15)\n",
    "                FEL.append((current_time + renting_time_Betty, 'rb1'))\n",
    "                FEL.sort()\n",
    "            elif CT == 'a2':\n",
    "                FEL.append((current_time + 2, 'rb2'))\n",
    "                FEL.sort()\n",
    "        elif LQ == 0:\n",
    "            LB = -1\n",
    "            maintenance_time_Betty = np.random.uniform(2,10)\n",
    "            clean_time_Betty = np.random.uniform(4,16)\n",
    "            FEL.append((current_time+maintenance_time_Betty+clean_time_Betty,'sb'))\n",
    "            FEL.sort()"
   ]
  },
  {
   "cell_type": "markdown",
   "metadata": {},
   "source": [
    "## Completion of type 2 service by Betty"
   ]
  },
  {
   "cell_type": "code",
   "execution_count": 70,
   "metadata": {},
   "outputs": [],
   "source": [
    "def comp_restore_Betty():\n",
    "    global FEL, current_time, customers_1,customers_2, start_time, finish_time, LB, LD, LQ, LQ_type, Betty_customer\n",
    "    if current_time<600:\n",
    "        if LQ > 0:\n",
    "            LQ -= 1\n",
    "            Betty_customer += 1\n",
    "            queue_history.append(LQ)\n",
    "            time_history.append(current_time)\n",
    "            CT = LQ_type.pop(0)\n",
    "            if CT == 'a1':\n",
    "                finish_time.append(current_time)\n",
    "                renting_time_Betty = np.random.uniform(5,15)\n",
    "                FEL.append((current_time + renting_time_Betty, 'rb1'))\n",
    "                FEL.sort()\n",
    "            elif CT == 'a2':\n",
    "                FEL.append((current_time + 2, 'rb2'))\n",
    "                FEL.sort()\n",
    "        elif LQ == 0:\n",
    "            LB = 0 \n",
    "    elif (current_time >= 600 and current_time < 660):\n",
    "        if LQ > 0:\n",
    "            LQ -= 1\n",
    "            Betty_customer += 1\n",
    "            queue_history.append(LQ)\n",
    "            time_history.append(current_time)\n",
    "            CT = LQ_type.pop(0)\n",
    "            if CT == 'a1':\n",
    "                finish_time.append(current_time)\n",
    "                renting_time_Betty = np.random.uniform(5,15)\n",
    "                FEL.append((current_time + renting_time_Betty, 'rb1'))\n",
    "                FEL.sort()\n",
    "            elif CT == 'a2':\n",
    "                FEL.append((current_time + 2, 'rb2'))\n",
    "                FEL.sort()\n",
    "        elif LQ == 0:\n",
    "            LB = -1\n",
    "            maintenance_time_Betty = np.random.uniform(2,10)\n",
    "            clean_time_Betty = np.random.uniform(4,16)\n",
    "            FEL.append((current_time+maintenance_time_Betty+clean_time_Betty,'sb'))\n",
    "            FEL.sort()"
   ]
  },
  {
   "cell_type": "markdown",
   "metadata": {},
   "source": [
    "## Completion of cleaning saw by Betty"
   ]
  },
  {
   "cell_type": "code",
   "execution_count": 71,
   "metadata": {},
   "outputs": [],
   "source": [
    "def cleaning_Betty():\n",
    "    global FEL, current_time, customers, start_time, finish_time, LB, LD, LQ, LQ_type\n",
    "    maintenance_time_Betty = np.random.uniform(2,10)\n",
    "    clean_time_Betty = np.random.uniform(4,16)\n",
    "    FEL.append((current_time+maintenance_time_Betty+clean_time_Betty,'sb'))\n",
    "    FEL.sort()"
   ]
  },
  {
   "cell_type": "markdown",
   "metadata": {},
   "source": [
    "## Completion of type 1 service by David"
   ]
  },
  {
   "cell_type": "code",
   "execution_count": 72,
   "metadata": {},
   "outputs": [],
   "source": [
    "def comp_rent_David():\n",
    "    global FEL, current_time, customers, start_time, finish_time, LB, LD, LQ, LQ_type, David_customer\n",
    "    if LQ > 0:\n",
    "        LD = 1\n",
    "        LQ -= 1\n",
    "        David_customer += 1\n",
    "        queue_history.append(LQ)\n",
    "        time_history.append(current_time)\n",
    "        CT = LQ_type.pop(0)\n",
    "        if CT == 'a1':\n",
    "            finish_time.append(current_time)\n",
    "            renting_time_David = np.random.uniform(10,18)\n",
    "            FEL.append((current_time + renting_time_David, 'rd1'))\n",
    "            FEL.sort()\n",
    "        elif CT == 'a2':\n",
    "            FEL.append((current_time + 2, 'rd2'))\n",
    "            FEL.sort()\n",
    "    elif LQ == 0:\n",
    "        LD = -1\n",
    "        maintenance_time_David = np.random.uniform(2,10)\n",
    "        clean_time_David = np.random.uniform(4,16)\n",
    "        FEL.append((current_time+maintenance_time_David+clean_time_David,'sd'))\n",
    "        FEL.sort()\n",
    "        "
   ]
  },
  {
   "cell_type": "markdown",
   "metadata": {},
   "source": [
    "## Completion of type 2 service by David"
   ]
  },
  {
   "cell_type": "code",
   "execution_count": 73,
   "metadata": {},
   "outputs": [],
   "source": [
    "def comp_restore_David():\n",
    "    global FEL, current_time, customers, start_time, finish_time, LB, LD, LQ, LQ_type, David_customer\n",
    "    if LQ > 0:\n",
    "        LD = 1\n",
    "        LQ -= 1\n",
    "        David_customer += 1\n",
    "        queue_history.append(LQ)\n",
    "        time_history.append(current_time)\n",
    "        CT = LQ_type.pop(0)\n",
    "        if CT == 'a1':\n",
    "            finish_time.append(current_time)\n",
    "            renting_time_David = np.random.uniform(10,18)\n",
    "            FEL.append((current_time + renting_time_David, 'rd1'))\n",
    "            FEL.sort()\n",
    "        elif CT == 'a2':\n",
    "            FEL.append((current_time + 2, 'rd2'))\n",
    "            FEL.sort()\n",
    "    elif LQ == 0:\n",
    "        LD = -1\n",
    "        maintenance_time_David = np.random.uniform(2,10)\n",
    "        clean_time_David = np.random.uniform(4,16)\n",
    "        FEL.append((current_time+maintenance_time_David+clean_time_David,'sd'))\n",
    "        FEL.sort()\n",
    "        "
   ]
  },
  {
   "cell_type": "markdown",
   "metadata": {},
   "source": [
    "## Completion of cleaning saw by David"
   ]
  },
  {
   "cell_type": "code",
   "execution_count": 74,
   "metadata": {},
   "outputs": [],
   "source": [
    "def cleaning_David():\n",
    "    global FEL, current_time, customers, start_time, finish_time, LB, LD, LQ, LQ_type, David_customer\n",
    "    if LQ > 0:\n",
    "        LD = 1\n",
    "        LQ -= 1\n",
    "        David_customer += 1\n",
    "        queue_history.append(LQ)\n",
    "        time_history.append(current_time)\n",
    "        CT = LQ_type.pop(0)\n",
    "        if CT == 'a1':\n",
    "            finish_time.append(current_time)\n",
    "            renting_time_David = np.random.uniform(10,18)\n",
    "            FEL.append((current_time + renting_time_David, 'rd1'))\n",
    "            FEL.sort()\n",
    "        elif CT == 'a2':\n",
    "            FEL.append((current_time + 2, 'rd2'))\n",
    "            FEL.sort()\n",
    "    elif LQ == 0:\n",
    "        LD = -1\n",
    "        maintenance_time_David = np.random.uniform(2,10)\n",
    "        clean_time_David = np.random.uniform(4,16)\n",
    "        FEL.append((current_time+maintenance_time_David+clean_time_David,'sd'))\n",
    "        FEL.sort()\n",
    "        "
   ]
  },
  {
   "cell_type": "markdown",
   "metadata": {},
   "source": [
    "## Heart of Simulation"
   ]
  },
  {
   "cell_type": "code",
   "execution_count": 75,
   "metadata": {},
   "outputs": [],
   "source": [
    "while (current_time < simulation_time):\n",
    "    current_time,event_type = FEL.pop(0)\n",
    "    if event_type=='a1':    \n",
    "        arrival_type_1()\n",
    "    elif event_type=='a2':\n",
    "        arrival_type_2()\n",
    "    elif event_type=='rb1':\n",
    "        comp_rent_Betty()\n",
    "    elif event_type=='rb2':\n",
    "        comp_restore_Betty()\n",
    "    elif event_type=='sb':\n",
    "        cleaning_Betty()\n",
    "    elif event_type=='rd1':\n",
    "        comp_rent_David() \n",
    "    elif event_type=='rd2':\n",
    "        comp_rent_David()\n",
    "    elif event_type=='sd':\n",
    "        cleaning_David()"
   ]
  },
  {
   "cell_type": "code",
   "execution_count": 76,
   "metadata": {},
   "outputs": [
    {
     "name": "stdout",
     "output_type": "stream",
     "text": [
      "[1, 12.424359475809432, 10.956175695386701, 0.20369323835903685, 7.249297556145422, 2.3096619084882377]\n",
      "Count of saw rental customers is: 21\n",
      "Count of saw restorer customers is: 19\n"
     ]
    }
   ],
   "source": [
    "length_time = len(finish_time)\n",
    "for i in range(length_time):\n",
    "    delay = finish_time[i] - start_time[i]\n",
    "    delay_time.append(delay)\n",
    "print(delay_time)\n",
    "print(\"Count of saw rental customers is:\",customers_1)\n",
    "print(\"Count of saw restorer customers is:\",customers_2)"
   ]
  },
  {
   "cell_type": "markdown",
   "metadata": {},
   "source": [
    "## The average delay period of saw rental customers"
   ]
  },
  {
   "cell_type": "code",
   "execution_count": 77,
   "metadata": {},
   "outputs": [
    {
     "name": "stdout",
     "output_type": "stream",
     "text": [
      "The average delay period of saw rental customers is: 1.6258660892470869\n"
     ]
    }
   ],
   "source": [
    "sum_delay_time = np.sum(delay_time)\n",
    "avg_delay_time = sum_delay_time / customers_1\n",
    "print(\"The average delay period of saw rental customers is:\",avg_delay_time)"
   ]
  },
  {
   "cell_type": "markdown",
   "metadata": {},
   "source": [
    "## Queue in the period of time"
   ]
  },
  {
   "cell_type": "code",
   "execution_count": 78,
   "metadata": {},
   "outputs": [
    {
     "data": {
      "image/png": "[encoded data removed]",
      "text/plain": [
       "<Figure size 640x480 with 1 Axes>"
      ]
     },
     "metadata": {},
     "output_type": "display_data"
    }
   ],
   "source": [
    "plt.step(time_history, queue_history)\n",
    "plt.title('Queue in the period of time')\n",
    "plt.xlabel('time history')\n",
    "plt.ylabel(\"queue history\")\n",
    "plt.show()"
   ]
  },
  {
   "cell_type": "markdown",
   "metadata": {},
   "source": [
    "## average of LQ"
   ]
  },
  {
   "cell_type": "code",
   "execution_count": 79,
   "metadata": {},
   "outputs": [
    {
     "name": "stdout",
     "output_type": "stream",
     "text": [
      "average of LQ is: 0.10294871292317903\n"
     ]
    }
   ],
   "source": [
    "length_LQ = len(time_history)\n",
    "sum_LQ = 0\n",
    "for i in range (length_LQ-1):\n",
    "    sum_LQ += (time_history[i+1]-time_history[i])*queue_history[i]\n",
    "average_LQ = sum_LQ / 600\n",
    "print(\"average of LQ is:\",average_LQ)"
   ]
  },
  {
   "cell_type": "code",
   "execution_count": 80,
   "metadata": {},
   "outputs": [],
   "source": [
    "#queue_history"
   ]
  },
  {
   "cell_type": "code",
   "execution_count": 81,
   "metadata": {},
   "outputs": [],
   "source": [
    "#time_history"
   ]
  },
  {
   "cell_type": "code",
   "execution_count": 82,
   "metadata": {},
   "outputs": [
    {
     "name": "stdout",
     "output_type": "stream",
     "text": [
      "count of customer type 1: 21\n",
      "count of customer type 2: 19\n"
     ]
    }
   ],
   "source": [
    "print(\"count of customer type 1:\",customers_1)\n",
    "print(\"count of customer type 2:\",customers_2)"
   ]
  },
  {
   "cell_type": "code",
   "execution_count": 83,
   "metadata": {},
   "outputs": [
    {
     "name": "stdout",
     "output_type": "stream",
     "text": [
      "Probability of waiting customer: 0.3\n",
      "Probability of being serviced on time: 0.7\n"
     ]
    }
   ],
   "source": [
    "p_waiting = waiting_customer / (customers_1 + customers_2)\n",
    "print(\"Probability of waiting customer:\",p_waiting)\n",
    "print(\"Probability of being serviced on time:\",1-p_waiting)"
   ]
  },
  {
   "cell_type": "code",
   "execution_count": 84,
   "metadata": {},
   "outputs": [
    {
     "name": "stdout",
     "output_type": "stream",
     "text": [
      "Number of customers of Betty: 37\n",
      "Number of customers of David: 3\n"
     ]
    },
    {
     "data": {
      "text/plain": [
       "True"
      ]
     },
     "execution_count": 84,
     "metadata": {},
     "output_type": "execute_result"
    }
   ],
   "source": [
    "print(\"Number of customers of Betty:\", Betty_customer)\n",
    "print(\"Number of customers of David:\", David_customer)\n",
    "Betty_customer + David_customer == customers_1 + customers_2"
   ]
  }
 ],
 "metadata": {
  "kernelspec": {
   "display_name": "Python 3.11.3 64-bit (microsoft store)",
   "language": "python",
   "name": "python3"
  },
  "language_info": {
   "codemirror_mode": {
    "name": "ipython",
    "version": 3
   },
   "file_extension": ".py",
   "mimetype": "text/x-python",
   "name": "python",
   "nbconvert_exporter": "python",
   "pygments_lexer": "ipython3",
   "version": "3.11.4"
  },
  "orig_nbformat": 4,
  "vscode": {
   "interpreter": {
    "hash": "a980e4a78660a0395618d7d1140eacd8511968ab9154713cbecd97b8bba80381"
   }
  }
 },
 "nbformat": 4,
 "nbformat_minor": 2
}
